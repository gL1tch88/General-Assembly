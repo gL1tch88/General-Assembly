{
 "cells": [
  {
   "cell_type": "code",
   "execution_count": 1,
   "metadata": {},
   "outputs": [],
   "source": [
    "import requests\n",
    "from bs4 import BeautifulSoup\n",
    "# Commented out from Win environment\n",
    "# from scrapy.selector import Selector\n",
    "import lxml\n",
    "import pandas as pd\n",
    "import re\n",
    "import time\n",
    "import random\n",
    "\n",
    "%matplotlib inline"
   ]
  },
  {
   "cell_type": "code",
   "execution_count": null,
   "metadata": {},
   "outputs": [],
   "source": [
    "import pandas as pd\n",
    "df2 = pd.read_csv()"
   ]
  },
  {
   "cell_type": "code",
   "execution_count": 2,
   "metadata": {},
   "outputs": [],
   "source": [
    "job_site = 'https://au.indeed.com'\n",
    "start_page = '&start='\n",
    "page_count = ''\n",
    "counter = 50\n",
    "store_job = []\n",
    "next_button_len = 2"
   ]
  },
  {
   "cell_type": "code",
   "execution_count": 3,
   "metadata": {},
   "outputs": [],
   "source": [
    "url_indeed = 'https://au.indeed.com/jobs?q=%28python+or+sql%29++%28data+or+scientist+or+science+or+analyst+or+research+or+business+or+intelligence+or+analytics+or+statistics+or+Actuarial+or+actuary+or+%22data+engineer%22%29+-developer%2C+-clerk%2C+-software%2C+-network%2C+-security%2C+-programmer&sort=date&radius=50&limit=50'\n",
    "# url_indeed = 'https://au.indeed.com/jobs?as_and=%27data+scientist%27&as_phr=&as_any=&as_not=&as_ttl=&as_cmp=&jt=all&st=&as_src=&salary=&radius=100&l=Sydney&fromage=any&limit=50&sort=&psf=advsrch&from=advancedsearch'"
   ]
  },
  {
   "cell_type": "code",
   "execution_count": 4,
   "metadata": {},
   "outputs": [],
   "source": [
    "ua_source_url='https://deviceatlas.com/blog/list-of-user-agent-strings#desktop'"
   ]
  },
  {
   "cell_type": "code",
   "execution_count": 5,
   "metadata": {},
   "outputs": [],
   "source": [
    "def get_ua_list(source=ua_source_url):\n",
    "    r = requests.get(source)\n",
    "    soup = BeautifulSoup(r.content, \"html.parser\")\n",
    "    tables = soup.find_all('table')\n",
    "    return [table.find('td').text for table in tables]"
   ]
  },
  {
   "cell_type": "code",
   "execution_count": 4,
   "metadata": {},
   "outputs": [],
   "source": [
    "def delay() -> None:\n",
    "    time.sleep(random.uniform(15, 30))\n",
    "    return None"
   ]
  },
  {
   "cell_type": "code",
   "execution_count": 40,
   "metadata": {},
   "outputs": [
    {
     "data": {
      "text/plain": [
       "'Mozilla/5.0 (Linux; Android 7.0; SM-G930VC Build/NRD90M; wv) AppleWebKit/537.36 (KHTML, like Gecko) Version/4.0 Chrome/58.0.3029.83 Mobile Safari/537.36'"
      ]
     },
     "execution_count": 40,
     "metadata": {},
     "output_type": "execute_result"
    }
   ],
   "source": [
    "random.choice(get_ua_list())"
   ]
  },
  {
   "cell_type": "code",
   "execution_count": 5,
   "metadata": {},
   "outputs": [],
   "source": [
    "def soup_req(url):\n",
    "#     user_agent = random.choice(get_ua_list())\n",
    "    req = requests.get(url)\n",
    "    soup = BeautifulSoup(req.content,features='lxml')\n",
    "    \n",
    "    return soup"
   ]
  },
  {
   "cell_type": "code",
   "execution_count": 6,
   "metadata": {},
   "outputs": [],
   "source": [
    "soup_indeed = soup_req(url_indeed)\n",
    "# link_indeed = soup_indeed.find_all('div', {'class': 'title'})\n",
    "link_indeed = soup_indeed.find_all('div', class_='result')"
   ]
  },
  {
   "cell_type": "code",
   "execution_count": 12,
   "metadata": {},
   "outputs": [],
   "source": [
    "while next_button_len == 2:\n",
    "    \n",
    "    for p_job in link_indeed:\n",
    "        row = {}\n",
    "        join_site = [job_site, p_job.find('a')['href']]\n",
    "        new_url = ''.join(join_site)\n",
    "        new_soup = soup_req(new_url)\n",
    "\n",
    "        row['job_title'] = new_soup.find('h3').text if new_soup.find('h3') else 'none'\n",
    "        row['company_name'] = new_soup.find('div', attrs={'class': 'icl-u-lg-mr--sm icl-u-xs-mr--xs'}).text if new_soup.find('div', attrs={'class': 'icl-u-lg-mr--sm icl-u-xs-mr--xs'}) else 'none'\n",
    "        row['location'] = new_soup.find_all(attrs={'class': 'jobsearch-JobMetadataHeader-iconLabel'})[0].text if new_soup.find_all(attrs={'class': 'jobsearch-JobMetadataHeader-iconLabel'}) else 'none'\n",
    "\n",
    "        class_len = len(new_soup.find_all(attrs={'class': 'jobsearch-JobMetadataHeader-iconLabel'}))\n",
    "        salary = 'none'\n",
    "        position = 'none'\n",
    "\n",
    "        for i in range(1,class_len):\n",
    "\n",
    "            if i == 1:\n",
    "                row['salary'] = new_soup.find_all(attrs={'class': 'jobsearch-JobMetadataHeader-iconLabel'})[1].text\n",
    "                if row['salary'][0] != '$':\n",
    "                    row['position'] = new_soup.find_all(attrs={'class': 'jobsearch-JobMetadataHeader-iconLabel'})[1].text\n",
    "                    row['salary'] = 'none'\n",
    "            elif i == 2: \n",
    "                row['salary'] = new_soup.find_all(attrs={'class': 'jobsearch-JobMetadataHeader-iconLabel'})[2].text\n",
    "\n",
    "        row['job_desc'] = new_soup.find('div', attrs={'class': 'jobsearch-JobComponent-description'}).text if new_soup.find('div', attrs={'class': 'jobsearch-JobComponent-description'}) else 'none'\n",
    "\n",
    "        store_job.append(row)\n",
    "    \n",
    "    counter += 50\n",
    "    page_count = counter \n",
    "    next_page = ''.join([url_indeed, start_page, str(page_count)])\n",
    "    delay()\n",
    "    soup_indeed = soup_req(next_page)\n",
    "    \n",
    "    link_indeed = soup_indeed.find_all('div', {'class': 'title'})\n",
    "    next_button_len = len(soup_indeed.find_all('span', attrs={'class': 'np'}))"
   ]
  },
  {
   "cell_type": "code",
   "execution_count": 14,
   "metadata": {},
   "outputs": [],
   "source": [
    "df_job = pd.DataFrame(store_job)\n",
    "df_job.to_csv('Job_final_output_v5.csv')"
   ]
  },
  {
   "cell_type": "code",
   "execution_count": 13,
   "metadata": {},
   "outputs": [
    {
     "data": {
      "text/plain": [
       "950"
      ]
     },
     "execution_count": 13,
     "metadata": {},
     "output_type": "execute_result"
    }
   ],
   "source": [
    "counter"
   ]
  },
  {
   "cell_type": "code",
   "execution_count": 16,
   "metadata": {},
   "outputs": [
    {
     "data": {
      "text/plain": [
       "'https://au.indeed.com/jobs?as_and=data+engineer&as_phr=&as_any=&as_not=&as_ttl=&as_cmp=&jt=all&st=&as_src=&salary=&radius=50&l=&fromage=any&limit=50&sort=&psf=advsrch&from=advancedsearch&start=950'"
      ]
     },
     "execution_count": 16,
     "metadata": {},
     "output_type": "execute_result"
    }
   ],
   "source": [
    "next_page"
   ]
  },
  {
   "cell_type": "code",
   "execution_count": 15,
   "metadata": {},
   "outputs": [
    {
     "data": {
      "text/html": [
       "<div>\n",
       "<style scoped>\n",
       "    .dataframe tbody tr th:only-of-type {\n",
       "        vertical-align: middle;\n",
       "    }\n",
       "\n",
       "    .dataframe tbody tr th {\n",
       "        vertical-align: top;\n",
       "    }\n",
       "\n",
       "    .dataframe thead th {\n",
       "        text-align: right;\n",
       "    }\n",
       "</style>\n",
       "<table border=\"1\" class=\"dataframe\">\n",
       "  <thead>\n",
       "    <tr style=\"text-align: right;\">\n",
       "      <th></th>\n",
       "      <th>job_title</th>\n",
       "      <th>company_name</th>\n",
       "      <th>location</th>\n",
       "      <th>salary</th>\n",
       "      <th>position</th>\n",
       "      <th>job_desc</th>\n",
       "    </tr>\n",
       "  </thead>\n",
       "  <tbody>\n",
       "    <tr>\n",
       "      <th>0</th>\n",
       "      <td>ICT Support and Test Engineer</td>\n",
       "      <td>EHW Technology Pty Ltd</td>\n",
       "      <td>Mackay QLD</td>\n",
       "      <td>$60,000 a year</td>\n",
       "      <td>Full-time, Permanent</td>\n",
       "      <td>Mackay QLDFull-time, Permanent$60,000 a year\\n...</td>\n",
       "    </tr>\n",
       "    <tr>\n",
       "      <th>1</th>\n",
       "      <td>Desktop Deployment Engineer</td>\n",
       "      <td>Muscatech</td>\n",
       "      <td>Canberra ACT</td>\n",
       "      <td>$30 - $35 an hour</td>\n",
       "      <td>Casual, Subcontract</td>\n",
       "      <td>Canberra ACTCasual, Subcontract$30 - $35 an ho...</td>\n",
       "    </tr>\n",
       "    <tr>\n",
       "      <th>2</th>\n",
       "      <td>Windows Patch Management Engineer</td>\n",
       "      <td>Chandler Macleod</td>\n",
       "      <td>Melbourne VIC</td>\n",
       "      <td>none</td>\n",
       "      <td>Contract</td>\n",
       "      <td>Melbourne VICContract\\n                try {\\n...</td>\n",
       "    </tr>\n",
       "    <tr>\n",
       "      <th>3</th>\n",
       "      <td>Production Engineer</td>\n",
       "      <td>Jindex Pty Ltd</td>\n",
       "      <td>Frenchs Forest NSW 2086</td>\n",
       "      <td>$60,000 - $69,999 a year</td>\n",
       "      <td>NaN</td>\n",
       "      <td>Frenchs Forest NSW 2086$60,000 - $69,999 a yea...</td>\n",
       "    </tr>\n",
       "    <tr>\n",
       "      <th>4</th>\n",
       "      <td>Electrical Engineering Draftsperson</td>\n",
       "      <td>UtilityVision Pty Ltd</td>\n",
       "      <td>Craigieburn VIC</td>\n",
       "      <td>$35.00 - $39.99 an hour</td>\n",
       "      <td>Permanent</td>\n",
       "      <td>Craigieburn VICPermanent$35.00 - $39.99 an hou...</td>\n",
       "    </tr>\n",
       "    <tr>\n",
       "      <th>...</th>\n",
       "      <td>...</td>\n",
       "      <td>...</td>\n",
       "      <td>...</td>\n",
       "      <td>...</td>\n",
       "      <td>...</td>\n",
       "      <td>...</td>\n",
       "    </tr>\n",
       "    <tr>\n",
       "      <th>1015</th>\n",
       "      <td>Scrum Master</td>\n",
       "      <td>PCCW Global</td>\n",
       "      <td>Brisbane QLD 4000</td>\n",
       "      <td>none</td>\n",
       "      <td>Full-time, Permanent</td>\n",
       "      <td>Brisbane QLD 4000Full-time, Permanent\\n       ...</td>\n",
       "    </tr>\n",
       "    <tr>\n",
       "      <th>1016</th>\n",
       "      <td>Software Process Engineer</td>\n",
       "      <td>Maptek</td>\n",
       "      <td>Adelaide SA</td>\n",
       "      <td>NaN</td>\n",
       "      <td>NaN</td>\n",
       "      <td>Adelaide SA\\n                try {\\n          ...</td>\n",
       "    </tr>\n",
       "    <tr>\n",
       "      <th>1017</th>\n",
       "      <td>Enterprise Sales Engineer - Singapore</td>\n",
       "      <td>Datadog</td>\n",
       "      <td>Sydney NSW</td>\n",
       "      <td>NaN</td>\n",
       "      <td>NaN</td>\n",
       "      <td>Sydney NSW\\n                try {\\n           ...</td>\n",
       "    </tr>\n",
       "    <tr>\n",
       "      <th>1018</th>\n",
       "      <td>C4I Communications Specialist</td>\n",
       "      <td>Nova Systems ANZ</td>\n",
       "      <td>Canberra ACT</td>\n",
       "      <td>NaN</td>\n",
       "      <td>NaN</td>\n",
       "      <td>Canberra ACT\\n                try {\\n         ...</td>\n",
       "    </tr>\n",
       "    <tr>\n",
       "      <th>1019</th>\n",
       "      <td>Bigdata Engineers</td>\n",
       "      <td>CellOS Software</td>\n",
       "      <td>Melbourne VIC</td>\n",
       "      <td>NaN</td>\n",
       "      <td>NaN</td>\n",
       "      <td>Melbourne VIC\\n                try {\\n        ...</td>\n",
       "    </tr>\n",
       "  </tbody>\n",
       "</table>\n",
       "<p>1020 rows × 6 columns</p>\n",
       "</div>"
      ],
      "text/plain": [
       "                                  job_title            company_name  \\\n",
       "0             ICT Support and Test Engineer  EHW Technology Pty Ltd   \n",
       "1               Desktop Deployment Engineer               Muscatech   \n",
       "2         Windows Patch Management Engineer        Chandler Macleod   \n",
       "3                       Production Engineer          Jindex Pty Ltd   \n",
       "4       Electrical Engineering Draftsperson   UtilityVision Pty Ltd   \n",
       "...                                     ...                     ...   \n",
       "1015                           Scrum Master             PCCW Global   \n",
       "1016              Software Process Engineer                  Maptek   \n",
       "1017  Enterprise Sales Engineer - Singapore                 Datadog   \n",
       "1018          C4I Communications Specialist        Nova Systems ANZ   \n",
       "1019                      Bigdata Engineers         CellOS Software   \n",
       "\n",
       "                     location                    salary              position  \\\n",
       "0                  Mackay QLD            $60,000 a year  Full-time, Permanent   \n",
       "1                Canberra ACT         $30 - $35 an hour   Casual, Subcontract   \n",
       "2               Melbourne VIC                      none              Contract   \n",
       "3     Frenchs Forest NSW 2086  $60,000 - $69,999 a year                   NaN   \n",
       "4             Craigieburn VIC   $35.00 - $39.99 an hour             Permanent   \n",
       "...                       ...                       ...                   ...   \n",
       "1015        Brisbane QLD 4000                      none  Full-time, Permanent   \n",
       "1016              Adelaide SA                       NaN                   NaN   \n",
       "1017               Sydney NSW                       NaN                   NaN   \n",
       "1018             Canberra ACT                       NaN                   NaN   \n",
       "1019            Melbourne VIC                       NaN                   NaN   \n",
       "\n",
       "                                               job_desc  \n",
       "0     Mackay QLDFull-time, Permanent$60,000 a year\\n...  \n",
       "1     Canberra ACTCasual, Subcontract$30 - $35 an ho...  \n",
       "2     Melbourne VICContract\\n                try {\\n...  \n",
       "3     Frenchs Forest NSW 2086$60,000 - $69,999 a yea...  \n",
       "4     Craigieburn VICPermanent$35.00 - $39.99 an hou...  \n",
       "...                                                 ...  \n",
       "1015  Brisbane QLD 4000Full-time, Permanent\\n       ...  \n",
       "1016  Adelaide SA\\n                try {\\n          ...  \n",
       "1017  Sydney NSW\\n                try {\\n           ...  \n",
       "1018  Canberra ACT\\n                try {\\n         ...  \n",
       "1019  Melbourne VIC\\n                try {\\n        ...  \n",
       "\n",
       "[1020 rows x 6 columns]"
      ]
     },
     "execution_count": 15,
     "metadata": {},
     "output_type": "execute_result"
    }
   ],
   "source": [
    "df_job"
   ]
  },
  {
   "cell_type": "code",
   "execution_count": 6,
   "metadata": {},
   "outputs": [],
   "source": [
    "job_site = 'https://www.seek.com.au/'\n",
    "start_page = '&start='\n",
    "page_count = ''\n",
    "counter = 50\n",
    "store_job = []\n",
    "next_button_len = 2"
   ]
  },
  {
   "cell_type": "code",
   "execution_count": 8,
   "metadata": {},
   "outputs": [],
   "source": [
    "url_seek = 'https://www.seek.com.au/data-scientist-jobs?sortmode=KeywordRelevance'"
   ]
  },
  {
   "cell_type": "code",
   "execution_count": 9,
   "metadata": {},
   "outputs": [],
   "source": [
    "soup_indeed = soup_req(url_seek)"
   ]
  },
  {
   "cell_type": "code",
   "execution_count": 19,
   "metadata": {},
   "outputs": [
    {
     "ename": "AttributeError",
     "evalue": "ResultSet object has no attribute 'find_all'. You're probably treating a list of elements like a single element. Did you call find_all() when you meant to call find()?",
     "output_type": "error",
     "traceback": [
      "\u001b[0;31m---------------------------------------------------------------------------\u001b[0m",
      "\u001b[0;31mAttributeError\u001b[0m                            Traceback (most recent call last)",
      "\u001b[0;32m<ipython-input-19-db3eecee7512>\u001b[0m in \u001b[0;36m<module>\u001b[0;34m\u001b[0m\n\u001b[0;32m----> 1\u001b[0;31m \u001b[0msoup_indeed\u001b[0m\u001b[0;34m.\u001b[0m\u001b[0mfind_all\u001b[0m\u001b[0;34m(\u001b[0m\u001b[0;34m'h1'\u001b[0m\u001b[0;34m)\u001b[0m\u001b[0;34m.\u001b[0m\u001b[0mfind_all\u001b[0m\u001b[0;34m(\u001b[0m\u001b[0;34m'a'\u001b[0m\u001b[0;34m)\u001b[0m\u001b[0;34m\u001b[0m\u001b[0;34m\u001b[0m\u001b[0m\n\u001b[0m",
      "\u001b[0;32m~/anaconda3/lib/python3.7/site-packages/bs4/element.py\u001b[0m in \u001b[0;36m__getattr__\u001b[0;34m(self, key)\u001b[0m\n\u001b[1;32m   2079\u001b[0m         \u001b[0;34m\"\"\"Raise a helpful exception to explain a common code fix.\"\"\"\u001b[0m\u001b[0;34m\u001b[0m\u001b[0;34m\u001b[0m\u001b[0m\n\u001b[1;32m   2080\u001b[0m         raise AttributeError(\n\u001b[0;32m-> 2081\u001b[0;31m             \u001b[0;34m\"ResultSet object has no attribute '%s'. You're probably treating a list of elements like a single element. Did you call find_all() when you meant to call find()?\"\u001b[0m \u001b[0;34m%\u001b[0m \u001b[0mkey\u001b[0m\u001b[0;34m\u001b[0m\u001b[0;34m\u001b[0m\u001b[0m\n\u001b[0m\u001b[1;32m   2082\u001b[0m         )\n",
      "\u001b[0;31mAttributeError\u001b[0m: ResultSet object has no attribute 'find_all'. You're probably treating a list of elements like a single element. Did you call find_all() when you meant to call find()?"
     ]
    }
   ],
   "source": [
    "soup_indeed.find_all('h1').find_all('a')"
   ]
  },
  {
   "cell_type": "code",
   "execution_count": null,
   "metadata": {},
   "outputs": [],
   "source": [
    "link_indeed = soup_indeed.find_all('div', {'class': 'title'})"
   ]
  },
  {
   "cell_type": "code",
   "execution_count": null,
   "metadata": {},
   "outputs": [],
   "source": [
    "while next_button_len == 2:\n",
    "    \n",
    "    for p_job in link_indeed:\n",
    "        row = {}\n",
    "        join_site = [job_site, p_job.find('a')['href']]\n",
    "        new_url = ''.join(join_site)\n",
    "        new_soup = soup_req(new_url)\n",
    "\n",
    "        row['job_title'] = new_soup.find('h3').text if new_soup.find('h3') else 'none'\n",
    "        row['company_name'] = new_soup.find('div', attrs={'class': 'icl-u-lg-mr--sm icl-u-xs-mr--xs'}).text if new_soup.find('div', attrs={'class': 'icl-u-lg-mr--sm icl-u-xs-mr--xs'}) else 'none'\n",
    "        row['location'] = new_soup.find_all(attrs={'class': 'jobsearch-JobMetadataHeader-iconLabel'})[0].text if new_soup.find_all(attrs={'class': 'jobsearch-JobMetadataHeader-iconLabel'}) else 'none'\n",
    "\n",
    "        class_len = len(new_soup.find_all(attrs={'class': 'jobsearch-JobMetadataHeader-iconLabel'}))\n",
    "        salary = 'none'\n",
    "        position = 'none'\n",
    "\n",
    "        for i in range(1,class_len):\n",
    "\n",
    "            if i == 1:\n",
    "                row['salary'] = new_soup.find_all(attrs={'class': 'jobsearch-JobMetadataHeader-iconLabel'})[1].text\n",
    "                if row['salary'][0] != '$':\n",
    "                    row['position'] = new_soup.find_all(attrs={'class': 'jobsearch-JobMetadataHeader-iconLabel'})[1].text\n",
    "                    row['salary'] = 'none'\n",
    "            elif i == 2: \n",
    "                row['salary'] = new_soup.find_all(attrs={'class': 'jobsearch-JobMetadataHeader-iconLabel'})[2].text\n",
    "\n",
    "        row['job_desc'] = new_soup.find('div', attrs={'class': 'jobsearch-JobComponent-description'}).text if new_soup.find('div', attrs={'class': 'jobsearch-JobComponent-description'}) else 'none'\n",
    "\n",
    "        store_job.append(row)\n",
    "    \n",
    "    counter += 50\n",
    "    page_count = counter \n",
    "    next_page = ''.join([url_indeed, start_page, str(page_count)])\n",
    "    delay()\n",
    "    soup_indeed = soup_req(next_page)\n",
    "    \n",
    "    link_indeed = soup_indeed.find_all('div', {'class': 'title'})\n",
    "    next_button_len = len(soup_indeed.find_all('span', attrs={'class': 'np'}))"
   ]
  }
 ],
 "metadata": {
  "kernelspec": {
   "display_name": "Python 3",
   "language": "python",
   "name": "python3"
  },
  "language_info": {
   "codemirror_mode": {
    "name": "ipython",
    "version": 3
   },
   "file_extension": ".py",
   "mimetype": "text/x-python",
   "name": "python",
   "nbconvert_exporter": "python",
   "pygments_lexer": "ipython3",
   "version": "3.7.6"
  }
 },
 "nbformat": 4,
 "nbformat_minor": 4
}
